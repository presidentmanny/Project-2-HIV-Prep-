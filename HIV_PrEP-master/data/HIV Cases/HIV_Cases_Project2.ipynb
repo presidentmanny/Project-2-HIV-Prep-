{
 "cells": [
  {
   "cell_type": "code",
   "execution_count": 1,
   "metadata": {},
   "outputs": [],
   "source": [
    "# Import Numpy\n",
    "import numpy as np\n",
    "\n",
    "# Import Matplotlib\n",
    "import matplotlib.pyplot as plt\n",
    "%matplotlib inline\n",
    "\n",
    "# SQL ALchemy \n",
    "from sqlalchemy import create_engine\n",
    "\n",
    "# Import PyMySQL\n",
    "import pymysql\n",
    "pymysql.install_as_MySQLdb()\n",
    "\n",
    "# Import Pandas \n",
    "import pandas as pd"
   ]
  },
  {
   "cell_type": "code",
   "execution_count": 2,
   "metadata": {},
   "outputs": [],
   "source": [
    "# Loading CSV files\n",
    "csv = \"USHIVCases.csv\""
   ]
  },
  {
   "cell_type": "code",
   "execution_count": 3,
   "metadata": {},
   "outputs": [
    {
     "data": {
      "text/html": [
       "<div>\n",
       "<style scoped>\n",
       "    .dataframe tbody tr th:only-of-type {\n",
       "        vertical-align: middle;\n",
       "    }\n",
       "\n",
       "    .dataframe tbody tr th {\n",
       "        vertical-align: top;\n",
       "    }\n",
       "\n",
       "    .dataframe thead th {\n",
       "        text-align: right;\n",
       "    }\n",
       "</style>\n",
       "<table border=\"1\" class=\"dataframe\">\n",
       "  <thead>\n",
       "    <tr style=\"text-align: right;\">\n",
       "      <th></th>\n",
       "      <th>Name</th>\n",
       "      <th>2008_Cases</th>\n",
       "      <th>2009_Cases</th>\n",
       "      <th>2010_Cases</th>\n",
       "      <th>2011_Cases</th>\n",
       "      <th>2012_Cases</th>\n",
       "      <th>2013_Cases</th>\n",
       "      <th>2014_Cases</th>\n",
       "      <th>2015_Cases</th>\n",
       "      <th>2016_Cases</th>\n",
       "      <th>2017_Cases</th>\n",
       "      <th>2018_Cases</th>\n",
       "    </tr>\n",
       "  </thead>\n",
       "  <tbody>\n",
       "    <tr>\n",
       "      <th>0</th>\n",
       "      <td>US</td>\n",
       "      <td>47290</td>\n",
       "      <td>44751</td>\n",
       "      <td>43067</td>\n",
       "      <td>41311</td>\n",
       "      <td>40529</td>\n",
       "      <td>39230</td>\n",
       "      <td>39963</td>\n",
       "      <td>39796</td>\n",
       "      <td>39520</td>\n",
       "      <td>38226</td>\n",
       "      <td>37286</td>\n",
       "    </tr>\n",
       "  </tbody>\n",
       "</table>\n",
       "</div>"
      ],
      "text/plain": [
       "  Name  2008_Cases  2009_Cases  2010_Cases  2011_Cases  2012_Cases  \\\n",
       "0   US       47290       44751       43067       41311       40529   \n",
       "\n",
       "   2013_Cases  2014_Cases  2015_Cases  2016_Cases  2017_Cases  2018_Cases  \n",
       "0       39230       39963       39796       39520       38226       37286  "
      ]
     },
     "execution_count": 3,
     "metadata": {},
     "output_type": "execute_result"
    }
   ],
   "source": [
    "HIV = pd.read_csv(csv)\n",
    "HIV"
   ]
  },
  {
   "cell_type": "code",
   "execution_count": 4,
   "metadata": {},
   "outputs": [
    {
     "data": {
      "text/html": [
       "<div>\n",
       "<style scoped>\n",
       "    .dataframe tbody tr th:only-of-type {\n",
       "        vertical-align: middle;\n",
       "    }\n",
       "\n",
       "    .dataframe tbody tr th {\n",
       "        vertical-align: top;\n",
       "    }\n",
       "\n",
       "    .dataframe thead th {\n",
       "        text-align: right;\n",
       "    }\n",
       "</style>\n",
       "<table border=\"1\" class=\"dataframe\">\n",
       "  <thead>\n",
       "    <tr style=\"text-align: right;\">\n",
       "      <th></th>\n",
       "      <th>Name</th>\n",
       "      <th>2008</th>\n",
       "      <th>2009</th>\n",
       "      <th>2010</th>\n",
       "      <th>2011</th>\n",
       "      <th>2012</th>\n",
       "      <th>2013</th>\n",
       "      <th>2014</th>\n",
       "      <th>2015</th>\n",
       "      <th>2016</th>\n",
       "      <th>2017</th>\n",
       "      <th>2018</th>\n",
       "    </tr>\n",
       "  </thead>\n",
       "  <tbody>\n",
       "    <tr>\n",
       "      <th>0</th>\n",
       "      <td>US</td>\n",
       "      <td>47290</td>\n",
       "      <td>44751</td>\n",
       "      <td>43067</td>\n",
       "      <td>41311</td>\n",
       "      <td>40529</td>\n",
       "      <td>39230</td>\n",
       "      <td>39963</td>\n",
       "      <td>39796</td>\n",
       "      <td>39520</td>\n",
       "      <td>38226</td>\n",
       "      <td>37286</td>\n",
       "    </tr>\n",
       "  </tbody>\n",
       "</table>\n",
       "</div>"
      ],
      "text/plain": [
       "  Name   2008   2009   2010   2011   2012   2013   2014   2015   2016   2017  \\\n",
       "0   US  47290  44751  43067  41311  40529  39230  39963  39796  39520  38226   \n",
       "\n",
       "    2018  \n",
       "0  37286  "
      ]
     },
     "execution_count": 4,
     "metadata": {},
     "output_type": "execute_result"
    }
   ],
   "source": [
    "HIV = HIV.rename(columns={\"2008_Cases\": \"2008\", \"2009_Cases\": \"2009\", \"2010_Cases\": \"2010\", \"2011_Cases\": \"2011\", \"2012_Cases\": \"2012\", \"2013_Cases\": \"2013\", \"2014_Cases\": \"2014\", \"2015_Cases\": \"2015\", \"2016_Cases\": \"2016\", \"2017_Cases\": \"2017\", \"2018_Cases\": \"2018\"})\n",
    "HIV.head()"
   ]
  },
  {
   "cell_type": "code",
   "execution_count": 6,
   "metadata": {},
   "outputs": [],
   "source": [
    "HIV.to_csv(\"USHIVCases_clean.csv\", index=False)"
   ]
  }
 ],
 "metadata": {
  "kernelspec": {
   "display_name": "Python 3",
   "language": "python",
   "name": "python3"
  },
  "language_info": {
   "codemirror_mode": {
    "name": "ipython",
    "version": 3
   },
   "file_extension": ".py",
   "mimetype": "text/x-python",
   "name": "python",
   "nbconvert_exporter": "python",
   "pygments_lexer": "ipython3",
   "version": "3.7.3"
  }
 },
 "nbformat": 4,
 "nbformat_minor": 2
}

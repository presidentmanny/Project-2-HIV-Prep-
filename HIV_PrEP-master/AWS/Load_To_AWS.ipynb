{
 "cells": [
  {
   "cell_type": "code",
   "execution_count": 1,
   "metadata": {},
   "outputs": [],
   "source": [
    "# SQL ALchemy \n",
    "from sqlalchemy import create_engine\n",
    "\n",
    "# Import PyMySQL\n",
    "import pymysql\n",
    "pymysql.install_as_MySQLdb()\n",
    "\n",
    "# Config Variables \n",
    "from config import remote_db_endpoint, remote_db_port\n",
    "from config import remote_gwsis_dbname, remote_gwsis_dbuser, remote_gwsis_dbpwd\n",
    "from config import local_db_user, local_db_pwd, local_db_endpoint, local_db_port, local_db_name\n",
    "\n",
    "# Import Pandas \n",
    "import pandas as pd"
   ]
  },
  {
   "cell_type": "code",
   "execution_count": 2,
   "metadata": {},
   "outputs": [],
   "source": [
    "# Create engine and pass mySQL connnection \n",
    "\n",
    "# CSV Files\n",
    "# income_csv = \"Resources/Annual_Avg_Pay.csv\"\n",
    "# income_df = pd.read_csv(income_csv)\n",
    "\n",
    "# unemployment_csv = \"Resources/unemployment_rate.csv\"\n",
    "# unemployment_df = pd.read_csv(unemployment_csv)\n",
    "\n",
    "education_csv = \"Resources/education_cleaner.csv\"\n",
    "education_df = pd.read_csv(education_csv)\n",
    "\n",
    "# hiv_rates_csv = \"Resources/New_HIV_Case_Rates.csv\"\n",
    "# hiv_rates_df = pd.read_csv(hiv_rates_csv)\n",
    "\n",
    "# Cloud MySQl database connection on AWS\n",
    "engine = create_engine(f\"mysql://{remote_gwsis_dbuser}:{remote_gwsis_dbpwd}@{remote_db_endpoint}:{remote_db_port}/{remote_gwsis_dbname}\")"
   ]
  },
  {
   "cell_type": "code",
   "execution_count": 4,
   "metadata": {},
   "outputs": [],
   "source": [
    "# Create remote database engine connection \n",
    "conn = engine.connect()"
   ]
  },
  {
   "cell_type": "code",
   "execution_count": 5,
   "metadata": {},
   "outputs": [],
   "source": [
    "# Dataframe to SQL\n",
    "# income_df.to_sql(name='income_data', if_exists='append', con=conn, chunksize=500, index=False)\n",
    "\n",
    "# unemployment_df.to_sql(name='unemployment_data', if_exists='append', con=conn, chunksize=500, index=False)\n",
    "\n",
    "education_df.to_sql(name='education_data', if_exists='append', con=conn, chunksize=500, index=False)\n",
    "\n",
    "# hiv_rates_df.to_sql(name='hiv_rates_data', if_exists='append', con=conn, chunksize=500, index=False)"
   ]
  },
  {
   "cell_type": "code",
   "execution_count": null,
   "metadata": {},
   "outputs": [],
   "source": [
    "remote_income_data = pd.read_sql(\"SELECT * FROM income_data\", conn)\n",
    "print(len(remote_income_data))\n",
    "remote_income_data.head()"
   ]
  },
  {
   "cell_type": "code",
   "execution_count": null,
   "metadata": {},
   "outputs": [],
   "source": [
    "remote_unemployment_data = pd.read_sql(\"SELECT * FROM unemployment_data\", conn)\n",
    "print(len(remote_unemployment_data))\n",
    "remote_unemployment_data.head()"
   ]
  },
  {
   "cell_type": "code",
   "execution_count": 6,
   "metadata": {},
   "outputs": [
    {
     "name": "stdout",
     "output_type": "stream",
     "text": [
      "51\n"
     ]
    },
    {
     "data": {
      "text/html": [
       "<div>\n",
       "<style scoped>\n",
       "    .dataframe tbody tr th:only-of-type {\n",
       "        vertical-align: middle;\n",
       "    }\n",
       "\n",
       "    .dataframe tbody tr th {\n",
       "        vertical-align: top;\n",
       "    }\n",
       "\n",
       "    .dataframe thead th {\n",
       "        text-align: right;\n",
       "    }\n",
       "</style>\n",
       "<table border=\"1\" class=\"dataframe\">\n",
       "  <thead>\n",
       "    <tr style=\"text-align: right;\">\n",
       "      <th></th>\n",
       "      <th>Name</th>\n",
       "      <th>Graduates 2008-2012</th>\n",
       "      <th>Graduates 2013-2018</th>\n",
       "      <th>Graduates Variance</th>\n",
       "    </tr>\n",
       "  </thead>\n",
       "  <tbody>\n",
       "    <tr>\n",
       "      <th>0</th>\n",
       "      <td>Alabama</td>\n",
       "      <td>43604.6</td>\n",
       "      <td>45118.6</td>\n",
       "      <td>1514.0</td>\n",
       "    </tr>\n",
       "    <tr>\n",
       "      <th>1</th>\n",
       "      <td>Alaska</td>\n",
       "      <td>8032.2</td>\n",
       "      <td>7812.0</td>\n",
       "      <td>-220.2</td>\n",
       "    </tr>\n",
       "    <tr>\n",
       "      <th>2</th>\n",
       "      <td>Arizona</td>\n",
       "      <td>62573.2</td>\n",
       "      <td>66317.6</td>\n",
       "      <td>3744.4</td>\n",
       "    </tr>\n",
       "    <tr>\n",
       "      <th>3</th>\n",
       "      <td>Arkansas</td>\n",
       "      <td>28336.4</td>\n",
       "      <td>30091.6</td>\n",
       "      <td>1755.2</td>\n",
       "    </tr>\n",
       "    <tr>\n",
       "      <th>4</th>\n",
       "      <td>California</td>\n",
       "      <td>396197.8</td>\n",
       "      <td>423133.0</td>\n",
       "      <td>26935.2</td>\n",
       "    </tr>\n",
       "  </tbody>\n",
       "</table>\n",
       "</div>"
      ],
      "text/plain": [
       "            Name  Graduates 2008-2012  Graduates 2013-2018  Graduates Variance\n",
       "0       Alabama               43604.6              45118.6              1514.0\n",
       "1        Alaska                8032.2               7812.0              -220.2\n",
       "2       Arizona               62573.2              66317.6              3744.4\n",
       "3      Arkansas               28336.4              30091.6              1755.2\n",
       "4    California              396197.8             423133.0             26935.2"
      ]
     },
     "execution_count": 6,
     "metadata": {},
     "output_type": "execute_result"
    }
   ],
   "source": [
    "remote_education_data = pd.read_sql(\"SELECT * FROM education_data\", conn)\n",
    "print(len(remote_education_data))\n",
    "remote_education_data.head()"
   ]
  },
  {
   "cell_type": "code",
   "execution_count": null,
   "metadata": {},
   "outputs": [],
   "source": [
    "remote_hiv_rates_data = pd.read_sql(\"SELECT * FROM hiv_rates_data\", conn)\n",
    "print(len(remote_hiv_rates_data))\n",
    "remote_hiv_rates_data.head()"
   ]
  },
  {
   "cell_type": "code",
   "execution_count": null,
   "metadata": {},
   "outputs": [],
   "source": []
  }
 ],
 "metadata": {
  "kernelspec": {
   "display_name": "Python 3",
   "language": "python",
   "name": "python3"
  },
  "language_info": {
   "codemirror_mode": {
    "name": "ipython",
    "version": 3
   },
   "file_extension": ".py",
   "mimetype": "text/x-python",
   "name": "python",
   "nbconvert_exporter": "python",
   "pygments_lexer": "ipython3",
   "version": "3.7.3"
  }
 },
 "nbformat": 4,
 "nbformat_minor": 2
}
